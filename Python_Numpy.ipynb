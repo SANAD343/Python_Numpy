{
 "cells": [
  {
   "cell_type": "code",
   "execution_count": null,
   "id": "a6107a3c",
   "metadata": {},
   "outputs": [],
   "source": [
    "\"\"\"Numpy is stand for numerical python\"\"\""
   ]
  },
  {
   "cell_type": "code",
   "execution_count": 1,
   "id": "33519f6f",
   "metadata": {},
   "outputs": [
    {
     "name": "stdout",
     "output_type": "stream",
     "text": [
      "[1 2 3 4 5 6]\n"
     ]
    }
   ],
   "source": [
    "import numpy as np\n",
    "a=np.array([1,2,3,4,5,6]) #example of single dimension array\n",
    "print(a)"
   ]
  },
  {
   "cell_type": "code",
   "execution_count": 2,
   "id": "60596f32",
   "metadata": {},
   "outputs": [
    {
     "data": {
      "text/plain": [
       "(6,)"
      ]
     },
     "execution_count": 2,
     "metadata": {},
     "output_type": "execute_result"
    }
   ],
   "source": [
    "a.shape"
   ]
  },
  {
   "cell_type": "code",
   "execution_count": 3,
   "id": "9f28921c",
   "metadata": {},
   "outputs": [
    {
     "data": {
      "text/plain": [
       "6"
      ]
     },
     "execution_count": 3,
     "metadata": {},
     "output_type": "execute_result"
    }
   ],
   "source": [
    "a.size"
   ]
  },
  {
   "cell_type": "code",
   "execution_count": 4,
   "id": "b45e487c",
   "metadata": {},
   "outputs": [
    {
     "data": {
      "text/plain": [
       "1"
      ]
     },
     "execution_count": 4,
     "metadata": {},
     "output_type": "execute_result"
    }
   ],
   "source": [
    "a.ndim"
   ]
  },
  {
   "cell_type": "code",
   "execution_count": 5,
   "id": "33c4e38d",
   "metadata": {},
   "outputs": [
    {
     "name": "stdout",
     "output_type": "stream",
     "text": [
      "[[ 1  2  3  4  5  6]\n",
      " [ 6  4  5  6  7  8]\n",
      " [ 7  8  9  8  9 87]]\n"
     ]
    }
   ],
   "source": [
    "b=np.array([(1,2,3,4,5,6),(6,4,5,6,7,8),(7,8,9,8,9,87)]) #creating a two dimensional array using numpy\n",
    "print(b)"
   ]
  },
  {
   "cell_type": "code",
   "execution_count": 6,
   "id": "1fe33830",
   "metadata": {},
   "outputs": [
    {
     "data": {
      "text/plain": [
       "(3, 6)"
      ]
     },
     "execution_count": 6,
     "metadata": {},
     "output_type": "execute_result"
    }
   ],
   "source": [
    "b.shape #give the shape of the array like rows and column"
   ]
  },
  {
   "cell_type": "code",
   "execution_count": 7,
   "id": "3859dcb7",
   "metadata": {},
   "outputs": [
    {
     "data": {
      "text/plain": [
       "18"
      ]
     },
     "execution_count": 7,
     "metadata": {},
     "output_type": "execute_result"
    }
   ],
   "source": [
    "b.size #give total number of elements in the numpyarray"
   ]
  },
  {
   "cell_type": "code",
   "execution_count": 8,
   "id": "a7b0a66f",
   "metadata": {},
   "outputs": [
    {
     "data": {
      "text/plain": [
       "2"
      ]
     },
     "execution_count": 8,
     "metadata": {},
     "output_type": "execute_result"
    }
   ],
   "source": [
    "b.ndim #gives dimension of the elements in the numpyarray"
   ]
  },
  {
   "cell_type": "code",
   "execution_count": 9,
   "id": "7dead0c3",
   "metadata": {},
   "outputs": [
    {
     "name": "stdout",
     "output_type": "stream",
     "text": [
      "[[1 2 3]\n",
      " [4 5 6]]\n"
     ]
    },
    {
     "data": {
      "text/plain": [
       "6"
      ]
     },
     "execution_count": 9,
     "metadata": {},
     "output_type": "execute_result"
    }
   ],
   "source": [
    "c=np.array([[1,2,3],[4,5,6]]) #fetching data from list.\n",
    "print(c)\n",
    "c[1][2]"
   ]
  },
  {
   "cell_type": "code",
   "execution_count": 10,
   "id": "35d40349",
   "metadata": {},
   "outputs": [
    {
     "data": {
      "text/plain": [
       "5"
      ]
     },
     "execution_count": 10,
     "metadata": {},
     "output_type": "execute_result"
    }
   ],
   "source": [
    "c[1][1]"
   ]
  },
  {
   "cell_type": "code",
   "execution_count": 11,
   "id": "66d1be74",
   "metadata": {},
   "outputs": [
    {
     "data": {
      "text/plain": [
       "6"
      ]
     },
     "execution_count": 11,
     "metadata": {},
     "output_type": "execute_result"
    }
   ],
   "source": [
    "c[1,2]"
   ]
  },
  {
   "cell_type": "code",
   "execution_count": 12,
   "id": "e57fdff3",
   "metadata": {},
   "outputs": [
    {
     "data": {
      "text/plain": [
       "21"
      ]
     },
     "execution_count": 12,
     "metadata": {},
     "output_type": "execute_result"
    }
   ],
   "source": [
    "c.sum() #sum for all elements in the array"
   ]
  },
  {
   "cell_type": "code",
   "execution_count": 13,
   "id": "b142d815",
   "metadata": {},
   "outputs": [
    {
     "data": {
      "text/plain": [
       "1"
      ]
     },
     "execution_count": 13,
     "metadata": {},
     "output_type": "execute_result"
    }
   ],
   "source": [
    "c.min() #minimum value within the array"
   ]
  },
  {
   "cell_type": "code",
   "execution_count": 14,
   "id": "cc96c819",
   "metadata": {},
   "outputs": [
    {
     "data": {
      "text/plain": [
       "6"
      ]
     },
     "execution_count": 14,
     "metadata": {},
     "output_type": "execute_result"
    }
   ],
   "source": [
    "c.max() #Maximum value within the array"
   ]
  },
  {
   "cell_type": "code",
   "execution_count": 15,
   "id": "a5d53f0e",
   "metadata": {},
   "outputs": [
    {
     "data": {
      "text/plain": [
       "array([[1.        , 1.41421356, 1.73205081],\n",
       "       [2.        , 2.23606798, 2.44948974]])"
      ]
     },
     "execution_count": 15,
     "metadata": {},
     "output_type": "execute_result"
    }
   ],
   "source": [
    "np.sqrt(c) #square root of array"
   ]
  },
  {
   "cell_type": "code",
   "execution_count": 16,
   "id": "bff810c6",
   "metadata": {},
   "outputs": [
    {
     "name": "stdout",
     "output_type": "stream",
     "text": [
      "[[1 2 3]\n",
      " [4 5 6]]\n"
     ]
    }
   ],
   "source": [
    "c=np.array([[1,2,3],[4,5,6]])\n",
    "print(c)"
   ]
  },
  {
   "cell_type": "code",
   "execution_count": 17,
   "id": "ad8ac4b6",
   "metadata": {},
   "outputs": [
    {
     "name": "stdout",
     "output_type": "stream",
     "text": [
      "[5 7 9]\n"
     ]
    }
   ],
   "source": [
    "print(c.sum(axis=0)) #vertical addition"
   ]
  },
  {
   "cell_type": "code",
   "execution_count": 18,
   "id": "cdb373dd",
   "metadata": {},
   "outputs": [
    {
     "name": "stdout",
     "output_type": "stream",
     "text": [
      "[ 6 15]\n"
     ]
    }
   ],
   "source": [
    "print(c.sum(axis=1)) #horizontal wise addition"
   ]
  },
  {
   "cell_type": "code",
   "execution_count": 23,
   "id": "6936cfd0",
   "metadata": {},
   "outputs": [
    {
     "name": "stdout",
     "output_type": "stream",
     "text": [
      "0\n",
      "1\n",
      "2\n",
      "3\n"
     ]
    }
   ],
   "source": [
    "import numpy as np  #Check Number of Dimensions?\n",
    "a = np.array(42)\n",
    "b = np.array([1, 2, 3, 4, 5])\n",
    "c = np.array([[1, 2, 3], [4, 5, 6]])\n",
    "d = np.array([[[1, 2, 3], [4, 5, 6]], [[1, 2, 3], [4, 5, 6]]])\n",
    "\n",
    "print(a.ndim)\n",
    "print(b.ndim)\n",
    "print(c.ndim)\n",
    "print(d.ndim)"
   ]
  },
  {
   "cell_type": "code",
   "execution_count": 24,
   "id": "9ea5ae89",
   "metadata": {},
   "outputs": [
    {
     "name": "stdout",
     "output_type": "stream",
     "text": [
      "[1.         1.33333333 1.66666667 2.         2.33333333 2.66666667\n",
      " 3.         3.33333333 3.66666667 4.        ]\n"
     ]
    }
   ],
   "source": [
    "#linspace linear spacing\n",
    "a=np.linspace(1,4,10)\n",
    "print(a)"
   ]
  },
  {
   "cell_type": "code",
   "execution_count": 25,
   "id": "a8d9fc1f",
   "metadata": {},
   "outputs": [],
   "source": [
    "a1=np.array([5,7,8])                  #1D\n",
    "a2=np.array([[10,50,30],[20,40,60]]) #2d list with list\n",
    "a3=np.array((23,84,28))              #creating an array with a tupple"
   ]
  },
  {
   "cell_type": "code",
   "execution_count": 33,
   "id": "7719756b",
   "metadata": {},
   "outputs": [
    {
     "name": "stdout",
     "output_type": "stream",
     "text": [
      "(3,) (2, 3) (3,)\n"
     ]
    }
   ],
   "source": [
    "print(a1.shape, a2.shape, a3.shape)"
   ]
  },
  {
   "cell_type": "code",
   "execution_count": 34,
   "id": "932fec28",
   "metadata": {},
   "outputs": [
    {
     "name": "stdout",
     "output_type": "stream",
     "text": [
      "int32\n",
      "[30 90 90]\n",
      "[ 90 120]\n"
     ]
    }
   ],
   "source": [
    "print(a1.dtype)\n",
    "print(a2.sum(axis=0))\n",
    "print(a2.sum(axis=1))"
   ]
  },
  {
   "cell_type": "code",
   "execution_count": 35,
   "id": "8ecbb33c",
   "metadata": {},
   "outputs": [
    {
     "name": "stdout",
     "output_type": "stream",
     "text": [
      "1 2 1\n"
     ]
    }
   ],
   "source": [
    "print(a1.ndim,a2.ndim,a3.ndim)"
   ]
  },
  {
   "cell_type": "code",
   "execution_count": 36,
   "id": "518edf9a",
   "metadata": {},
   "outputs": [
    {
     "name": "stdout",
     "output_type": "stream",
     "text": [
      "(3,) (2, 3) (3,)\n"
     ]
    }
   ],
   "source": [
    "print(a1.shape,a2.shape,a3.shape)"
   ]
  },
  {
   "cell_type": "code",
   "execution_count": 41,
   "id": "0d2a520a",
   "metadata": {},
   "outputs": [
    {
     "name": "stdout",
     "output_type": "stream",
     "text": [
      "8 60 84\n"
     ]
    }
   ],
   "source": [
    "print(a1.max(),a2.max(),a3.max())"
   ]
  },
  {
   "cell_type": "code",
   "execution_count": 42,
   "id": "ae68625f",
   "metadata": {},
   "outputs": [
    {
     "name": "stdout",
     "output_type": "stream",
     "text": [
      "5 10 23\n"
     ]
    }
   ],
   "source": [
    "print(a1.min(),a2.min(),a3.min())"
   ]
  },
  {
   "cell_type": "code",
   "execution_count": 39,
   "id": "f0f88632",
   "metadata": {},
   "outputs": [
    {
     "name": "stdout",
     "output_type": "stream",
     "text": [
      "[15 55 34 45 90]\n"
     ]
    }
   ],
   "source": [
    "import numpy as np\n",
    "a4=np.array([15,55,34,45,90]) #1d data\n",
    "print(a4)"
   ]
  },
  {
   "cell_type": "code",
   "execution_count": 40,
   "id": "be906f77",
   "metadata": {},
   "outputs": [
    {
     "name": "stdout",
     "output_type": "stream",
     "text": [
      "[[15 55 34 45 90]]\n"
     ]
    }
   ],
   "source": [
    "a4=np.array([15,55,34,45,90],ndmin=2) #converting 1d data to 2d data 2d data consist of double big brackets\n",
    "print(a4)"
   ]
  },
  {
   "cell_type": "code",
   "execution_count": 43,
   "id": "7eef1668",
   "metadata": {},
   "outputs": [
    {
     "name": "stdout",
     "output_type": "stream",
     "text": [
      "5 (1, 5)\n"
     ]
    }
   ],
   "source": [
    "print(a4.size,a4.shape)"
   ]
  },
  {
   "cell_type": "code",
   "execution_count": 44,
   "id": "bdc77ddb",
   "metadata": {},
   "outputs": [
    {
     "name": "stdout",
     "output_type": "stream",
     "text": [
      "[25.+0.j 32.+0.j 87.+0.j]\n"
     ]
    }
   ],
   "source": [
    "a5=np.array([25,32,87],dtype=complex) #array using d type parameter which implies the creation of an array with the desired data type.\n",
    "print(a5)"
   ]
  },
  {
   "cell_type": "code",
   "execution_count": 45,
   "id": "e7861839",
   "metadata": {},
   "outputs": [
    {
     "name": "stdout",
     "output_type": "stream",
     "text": [
      "3 (3,) 1\n"
     ]
    }
   ],
   "source": [
    "print(a5.size,a5.shape,a5.ndim)"
   ]
  },
  {
   "cell_type": "code",
   "execution_count": 48,
   "id": "e040ec8a",
   "metadata": {},
   "outputs": [
    {
     "name": "stdout",
     "output_type": "stream",
     "text": [
      "[[10 50 30]\n",
      " [20 40 60]]\n",
      "(2, 3)\n"
     ]
    }
   ],
   "source": [
    "a2=np.array([[10,50,30],[20,40,60]],dtype=\"int32\")  #2d data 2rows 3 columns\n",
    "print(a2)\n",
    "print(a2.shape)"
   ]
  },
  {
   "cell_type": "code",
   "execution_count": 49,
   "id": "11d55296",
   "metadata": {},
   "outputs": [],
   "source": [
    "a2.shape=(3,2) #converting 2rows 3 colums to 3 rows to 2 columns"
   ]
  },
  {
   "cell_type": "code",
   "execution_count": 50,
   "id": "377cf324",
   "metadata": {},
   "outputs": [
    {
     "name": "stdout",
     "output_type": "stream",
     "text": [
      "[[10 50]\n",
      " [30 20]\n",
      " [40 60]]\n"
     ]
    }
   ],
   "source": [
    "print(a2)"
   ]
  },
  {
   "cell_type": "code",
   "execution_count": 51,
   "id": "0bcc72ce",
   "metadata": {},
   "outputs": [
    {
     "data": {
      "text/plain": [
       "(3, 2)"
      ]
     },
     "execution_count": 51,
     "metadata": {},
     "output_type": "execute_result"
    }
   ],
   "source": [
    "a2.shape"
   ]
  },
  {
   "cell_type": "code",
   "execution_count": 52,
   "id": "218d8f7d",
   "metadata": {},
   "outputs": [
    {
     "name": "stdout",
     "output_type": "stream",
     "text": [
      "[[10]\n",
      " [50]\n",
      " [30]\n",
      " [20]\n",
      " [40]\n",
      " [60]]\n"
     ]
    }
   ],
   "source": [
    "a2.shape=(6,1)\n",
    "print(a2)"
   ]
  },
  {
   "cell_type": "code",
   "execution_count": 53,
   "id": "ac89b51c",
   "metadata": {},
   "outputs": [
    {
     "name": "stdout",
     "output_type": "stream",
     "text": [
      "[1. 1. 1. 1. 1. 1. 1. 1. 1. 1.]\n",
      "[0. 0. 0. 0. 0. 0. 0. 0. 0. 0.]\n"
     ]
    }
   ],
   "source": [
    "#creating zeros and ones matrix \n",
    "a5=np.ones(10)\n",
    "print(a5)\n",
    "a6=np.zeros(10)\n",
    "print(a6)"
   ]
  },
  {
   "cell_type": "code",
   "execution_count": 54,
   "id": "04e7f890",
   "metadata": {},
   "outputs": [
    {
     "name": "stdout",
     "output_type": "stream",
     "text": [
      "[[10 50 30]\n",
      " [20 40 60]]\n",
      "<class 'numpy.ndarray'>\n",
      "2\n",
      "(2, 3)\n",
      "int32\n"
     ]
    }
   ],
   "source": [
    "a2=np.array([[10,50,30],[20,40,60]]) #2d list with list\n",
    "print(a2)\n",
    "print(type(a2)) #gives the type of data\n",
    "print(a2.ndim) #give the dimension\n",
    "print(a2.shape) #shape of the array (rows,column)\n",
    "print(a2.dtype) #give the datatype of the array"
   ]
  },
  {
   "cell_type": "code",
   "execution_count": 55,
   "id": "72e8e8dc",
   "metadata": {},
   "outputs": [
    {
     "name": "stdout",
     "output_type": "stream",
     "text": [
      "[1.1 3.2 4.5]\n",
      "<class 'numpy.ndarray'>\n",
      "1\n",
      "(3,)\n",
      "3\n",
      "float64\n"
     ]
    }
   ],
   "source": [
    "a6=np.array([1.1,3.2,4.5])\n",
    "print(a6)\n",
    "print(type(a6))\n",
    "print(a6.ndim)\n",
    "print(a6.shape)\n",
    "print(a6.size)\n",
    "print(a6.dtype)"
   ]
  },
  {
   "cell_type": "code",
   "execution_count": 56,
   "id": "090cbc45",
   "metadata": {},
   "outputs": [
    {
     "name": "stdout",
     "output_type": "stream",
     "text": [
      "['1' '1.6' 'sanad']\n",
      "<class 'numpy.ndarray'>\n",
      "1\n",
      "(3,)\n",
      "3\n",
      "<U32\n"
     ]
    }
   ],
   "source": [
    "a7=np.array([1,1.6,\"sanad\"])\n",
    "print(a7)\n",
    "print(type(a7))\n",
    "print(a7.ndim)\n",
    "print(a7.shape)\n",
    "print(a7.size)\n",
    "print(a7.dtype)"
   ]
  },
  {
   "cell_type": "code",
   "execution_count": 57,
   "id": "08a22ab4",
   "metadata": {},
   "outputs": [
    {
     "ename": "TypeError",
     "evalue": "Field elements must be 2- or 3-tuples, got '5'",
     "output_type": "error",
     "traceback": [
      "\u001b[1;31m---------------------------------------------------------------------------\u001b[0m",
      "\u001b[1;31mTypeError\u001b[0m                                 Traceback (most recent call last)",
      "Cell \u001b[1;32mIn[57], line 1\u001b[0m\n\u001b[1;32m----> 1\u001b[0m a8\u001b[38;5;241m=\u001b[39m\u001b[43mnp\u001b[49m\u001b[38;5;241;43m.\u001b[39;49m\u001b[43marray\u001b[49m\u001b[43m(\u001b[49m\u001b[38;5;124;43m'\u001b[39;49m\u001b[38;5;124;43md\u001b[39;49m\u001b[38;5;124;43m'\u001b[39;49m\u001b[43m,\u001b[49m\u001b[43m[\u001b[49m\u001b[38;5;241;43m5\u001b[39;49m\u001b[43m,\u001b[49m\u001b[38;5;241;43m6.9\u001b[39;49m\u001b[43m,\u001b[49m\u001b[38;5;124;43m\"\u001b[39;49m\u001b[38;5;124;43msanad\u001b[39;49m\u001b[38;5;124;43m\"\u001b[39;49m\u001b[43m]\u001b[49m\u001b[43m)\u001b[49m \u001b[38;5;66;03m#homogenous characters\u001b[39;00m\n\u001b[0;32m      2\u001b[0m \u001b[38;5;28mprint\u001b[39m(a8)\n",
      "\u001b[1;31mTypeError\u001b[0m: Field elements must be 2- or 3-tuples, got '5'"
     ]
    }
   ],
   "source": [
    "a8=np.array('d',[5,6.9,\"sanad\"]) #numpy consider only homogenous characters\n",
    "print(a8) #if we give heterogenous data we will get error type error"
   ]
  },
  {
   "cell_type": "code",
   "execution_count": 58,
   "id": "4ef2f9d7",
   "metadata": {},
   "outputs": [
    {
     "name": "stdout",
     "output_type": "stream",
     "text": [
      "[5.5 7.8 8.9]\n"
     ]
    },
    {
     "data": {
      "text/plain": [
       "5.5"
      ]
     },
     "execution_count": 58,
     "metadata": {},
     "output_type": "execute_result"
    }
   ],
   "source": [
    "import numpy as np\n",
    "b1=np.array([5.5,7.8,8.9]) #1D array\n",
    "print(b1) #pulling data according to the index number\n",
    "b1[0]"
   ]
  },
  {
   "cell_type": "code",
   "execution_count": 59,
   "id": "662899fb",
   "metadata": {},
   "outputs": [
    {
     "name": "stdout",
     "output_type": "stream",
     "text": [
      "[[5.5 7.8]\n",
      " [9.9 5.6]]\n"
     ]
    }
   ],
   "source": [
    "b1=np.array([[5.5,7.8],[9.9,5.6]]) #2D array\n",
    "print(b1) "
   ]
  },
  {
   "cell_type": "code",
   "execution_count": 60,
   "id": "15750e88",
   "metadata": {},
   "outputs": [
    {
     "name": "stdout",
     "output_type": "stream",
     "text": [
      "[[0. 0.]\n",
      " [0. 0.]]\n"
     ]
    }
   ],
   "source": [
    "b1=np.zeros((2,2)) #2x2 matrix with all elements as zeros\n",
    "print(b1)"
   ]
  },
  {
   "cell_type": "code",
   "execution_count": 61,
   "id": "abae5ef1",
   "metadata": {},
   "outputs": [
    {
     "name": "stdout",
     "output_type": "stream",
     "text": [
      "[[1. 1.]]\n"
     ]
    }
   ],
   "source": [
    "b1=np.ones((1,2)) #1x2 matrix with all elements as ones\n",
    "print(b1)"
   ]
  },
  {
   "cell_type": "code",
   "execution_count": 64,
   "id": "83cba0d8",
   "metadata": {},
   "outputs": [
    {
     "name": "stdout",
     "output_type": "stream",
     "text": [
      "1.1\n",
      "2.4\n",
      "3.6\n"
     ]
    }
   ],
   "source": [
    "b2=np.array([1.1,2.4,3.6,]) #accessing all elements using for loop\n",
    "for item in range(0,3):\n",
    "  print(b2[item])"
   ]
  },
  {
   "cell_type": "code",
   "execution_count": 65,
   "id": "21065f11",
   "metadata": {},
   "outputs": [
    {
     "name": "stdout",
     "output_type": "stream",
     "text": [
      "[[15 15]\n",
      " [15 15]]\n"
     ]
    }
   ],
   "source": [
    "k=np.full((2,2),15) #if we need to add particular data in a matrix predifine matrix.\n",
    "print(k)"
   ]
  },
  {
   "cell_type": "code",
   "execution_count": 66,
   "id": "451e37c6",
   "metadata": {},
   "outputs": [
    {
     "name": "stdout",
     "output_type": "stream",
     "text": [
      "[[1. 0. 0.]\n",
      " [0. 1. 0.]\n",
      " [0. 0. 1.]]\n"
     ]
    }
   ],
   "source": [
    "k2=np.eye(3) #predefine function in numpy  as a identity matrix\n",
    "print(k2)"
   ]
  },
  {
   "cell_type": "code",
   "execution_count": 67,
   "id": "ed6254f0",
   "metadata": {},
   "outputs": [
    {
     "name": "stdout",
     "output_type": "stream",
     "text": [
      "[[0.46176041 0.78663349 0.53856255]\n",
      " [0.7910196  0.57645093 0.80486669]\n",
      " [0.45893229 0.0051071  0.59592007]]\n"
     ]
    }
   ],
   "source": [
    "k2=np.random.random((3,3)) #use of random\n",
    "print(k2)"
   ]
  },
  {
   "cell_type": "code",
   "execution_count": 68,
   "id": "82d94445",
   "metadata": {},
   "outputs": [
    {
     "name": "stdout",
     "output_type": "stream",
     "text": [
      "[1.1 2.2 3.3]\n"
     ]
    }
   ],
   "source": [
    "k3=np.array([1.1,2.2,3.3])\n",
    "print(k3)"
   ]
  },
  {
   "cell_type": "code",
   "execution_count": 69,
   "id": "4c90cbaf",
   "metadata": {},
   "outputs": [
    {
     "name": "stdout",
     "output_type": "stream",
     "text": [
      "[7.5 2.2 3.3]\n"
     ]
    }
   ],
   "source": [
    "k3[0]=7.5\n",
    "print(k3)"
   ]
  },
  {
   "cell_type": "code",
   "execution_count": 71,
   "id": "e8f46686",
   "metadata": {},
   "outputs": [
    {
     "name": "stdout",
     "output_type": "stream",
     "text": [
      "[7.5 2.2 3.3]\n"
     ]
    }
   ],
   "source": [
    "np.insert(k3,2,1.1)\n",
    "print(k3)"
   ]
  },
  {
   "cell_type": "code",
   "execution_count": 72,
   "id": "14c47c23",
   "metadata": {},
   "outputs": [],
   "source": [
    "import array as arr"
   ]
  },
  {
   "cell_type": "code",
   "execution_count": 80,
   "id": "cb097a64",
   "metadata": {},
   "outputs": [
    {
     "name": "stdout",
     "output_type": "stream",
     "text": [
      "array('d', [1.1, 2.3, 5.6])\n"
     ]
    }
   ],
   "source": [
    "k4=arr.array(\"d\",[1.1,2.3,5.6]) #adding more data in list using array library\n",
    "print(k4)"
   ]
  },
  {
   "cell_type": "code",
   "execution_count": 81,
   "id": "0d388c3a",
   "metadata": {},
   "outputs": [
    {
     "name": "stdout",
     "output_type": "stream",
     "text": [
      "array('d', [1.1, 7.7, 2.3, 5.6])\n"
     ]
    }
   ],
   "source": [
    "k4.insert(1,7.7) #inserting element in index number 1\n",
    "print(k4)"
   ]
  },
  {
   "cell_type": "code",
   "execution_count": 82,
   "id": "d7c9332b",
   "metadata": {},
   "outputs": [
    {
     "name": "stdout",
     "output_type": "stream",
     "text": [
      "array('d', [1.1, 7.7, 5.6])\n"
     ]
    }
   ],
   "source": [
    "k4.pop(2)\n",
    "print(k4)"
   ]
  },
  {
   "cell_type": "code",
   "execution_count": 83,
   "id": "def53d5a",
   "metadata": {},
   "outputs": [],
   "source": [
    "k4.remove(7.7) #remove"
   ]
  },
  {
   "cell_type": "code",
   "execution_count": 84,
   "id": "a80fba18",
   "metadata": {},
   "outputs": [
    {
     "data": {
      "text/plain": [
       "array('d', [1.1, 5.6])"
      ]
     },
     "execution_count": 84,
     "metadata": {},
     "output_type": "execute_result"
    }
   ],
   "source": [
    "k4"
   ]
  },
  {
   "cell_type": "code",
   "execution_count": 85,
   "id": "930ee3e1",
   "metadata": {},
   "outputs": [
    {
     "data": {
      "text/plain": [
       "array('d', [1.1, 5.6, 9.8])"
      ]
     },
     "execution_count": 85,
     "metadata": {},
     "output_type": "execute_result"
    }
   ],
   "source": [
    "k4.append(9.8) #append work in array but not in numpy add to the end of the list\n",
    "k4"
   ]
  },
  {
   "cell_type": "code",
   "execution_count": 86,
   "id": "17a01a57",
   "metadata": {},
   "outputs": [
    {
     "data": {
      "text/plain": [
       "array('d', [1.1, 5.6, 10.5])"
      ]
     },
     "execution_count": 86,
     "metadata": {},
     "output_type": "execute_result"
    }
   ],
   "source": [
    "k4[2]=10.5 #updating the list\n",
    "k4"
   ]
  },
  {
   "cell_type": "code",
   "execution_count": 87,
   "id": "e6d98443",
   "metadata": {},
   "outputs": [
    {
     "data": {
      "text/plain": [
       "0"
      ]
     },
     "execution_count": 87,
     "metadata": {},
     "output_type": "execute_result"
    }
   ],
   "source": [
    "k4.index(1.1) #searching the index number from the array with the array"
   ]
  },
  {
   "cell_type": "code",
   "execution_count": 88,
   "id": "85fd3593",
   "metadata": {},
   "outputs": [
    {
     "data": {
      "image/png": "[encoded data removed]",
      "text/plain": [
       "<Figure size 640x480 with 1 Axes>"
      ]
     },
     "metadata": {},
     "output_type": "display_data"
    }
   ],
   "source": [
    "from matplotlib import pyplot as plt\n",
    "x=[5,2,9,4,7]\n",
    "y=[10,5,8,4,2]\n",
    "plt.bar(x,y) #represnting the data using matplot Library, also it is a bar graph\n",
    "plt.show()"
   ]
  },
  {
   "cell_type": "code",
   "execution_count": 89,
   "id": "826bf013",
   "metadata": {},
   "outputs": [
    {
     "data": {
      "text/plain": [
       "'1.23.5'"
      ]
     },
     "execution_count": 89,
     "metadata": {},
     "output_type": "execute_result"
    }
   ],
   "source": [
    "import numpy as np \n",
    "np.__version__ #getting version of numpy"
   ]
  },
  {
   "cell_type": "code",
   "execution_count": 90,
   "id": "f8737202",
   "metadata": {},
   "outputs": [
    {
     "name": "stdout",
     "output_type": "stream",
     "text": [
      "[0, 1, 2, 3, 4, 5, 6, 7, 8, 9]\n"
     ]
    }
   ],
   "source": [
    "l=list(range(10))\n",
    "print(l)"
   ]
  },
  {
   "cell_type": "code",
   "execution_count": 91,
   "id": "83d3e055",
   "metadata": {},
   "outputs": [
    {
     "data": {
      "text/plain": [
       "int"
      ]
     },
     "execution_count": 91,
     "metadata": {},
     "output_type": "execute_result"
    }
   ],
   "source": [
    "type(l[0])"
   ]
  },
  {
   "cell_type": "code",
   "execution_count": 93,
   "id": "2ef2c80d",
   "metadata": {},
   "outputs": [
    {
     "name": "stdout",
     "output_type": "stream",
     "text": [
      "['0', '1', '2', '3', '4', '5', '6', '7', '8', '9']\n"
     ]
    },
    {
     "data": {
      "text/plain": [
       "str"
      ]
     },
     "execution_count": 93,
     "metadata": {},
     "output_type": "execute_result"
    }
   ],
   "source": [
    "string=([str(item) for item in l]) #converting list to str using list comprehension\n",
    "print(string)\n",
    "type(string[0]) #get the type pf data present in the list"
   ]
  },
  {
   "cell_type": "code",
   "execution_count": 94,
   "id": "54a4d178",
   "metadata": {},
   "outputs": [
    {
     "name": "stdout",
     "output_type": "stream",
     "text": [
      "[<class 'bool'>, <class 'int'>, <class 'float'>, <class 'complex'>, <class 'str'>]\n"
     ]
    }
   ],
   "source": [
    "l2=[False,100,57.5,5+4j,\"dataloves\"]\n",
    "datatype=([type(item) for item in l2])\n",
    "print((datatype)) #get the datatype"
   ]
  },
  {
   "cell_type": "code",
   "execution_count": 95,
   "id": "e2b8c654",
   "metadata": {},
   "outputs": [
    {
     "name": "stdout",
     "output_type": "stream",
     "text": [
      "[0. 0. 0. 0. 0. 0. 0. 0. 0. 0.]\n"
     ]
    }
   ],
   "source": [
    "a0=np.zeros(10)\n",
    "np.dtype=int\n",
    "print(a0)"
   ]
  },
  {
   "cell_type": "code",
   "execution_count": 96,
   "id": "ca572101",
   "metadata": {},
   "outputs": [
    {
     "name": "stdout",
     "output_type": "stream",
     "text": [
      "[0 0 0 0 0 0 0 0 0 0]\n"
     ]
    }
   ],
   "source": [
    "a0=np.zeros(10,dtype=int)\n",
    "print(a0)"
   ]
  },
  {
   "cell_type": "code",
   "execution_count": 97,
   "id": "b635e077",
   "metadata": {},
   "outputs": [
    {
     "ename": "TypeError",
     "evalue": "only size-1 arrays can be converted to Python scalars",
     "output_type": "error",
     "traceback": [
      "\u001b[1;31m---------------------------------------------------------------------------\u001b[0m",
      "\u001b[1;31mTypeError\u001b[0m                                 Traceback (most recent call last)",
      "Cell \u001b[1;32mIn[97], line 1\u001b[0m\n\u001b[1;32m----> 1\u001b[0m a0\u001b[38;5;241m=\u001b[39m\u001b[38;5;28;43mint\u001b[39;49m\u001b[43m(\u001b[49m\u001b[43mnp\u001b[49m\u001b[38;5;241;43m.\u001b[39;49m\u001b[43mzeros\u001b[49m\u001b[43m(\u001b[49m\u001b[38;5;241;43m10\u001b[39;49m\u001b[43m)\u001b[49m\u001b[43m)\u001b[49m \u001b[38;5;66;03m#not able to do the type cating in numpy array list can perform.\u001b[39;00m\n\u001b[0;32m      2\u001b[0m \u001b[38;5;28mprint\u001b[39m(a0)\n",
      "\u001b[1;31mTypeError\u001b[0m: only size-1 arrays can be converted to Python scalars"
     ]
    }
   ],
   "source": [
    "a0=int(np.zeros(10)) #not able to do the type cating in numpy array list can perform.\n",
    "print(a0)"
   ]
  },
  {
   "cell_type": "code",
   "execution_count": 98,
   "id": "00986dff",
   "metadata": {},
   "outputs": [
    {
     "name": "stdout",
     "output_type": "stream",
     "text": [
      "[0.5570352  0.27587659 0.85212368 0.51562441 0.29285154 0.48658767\n",
      " 0.21861016 0.41531397 0.91823557 0.89786957]\n"
     ]
    }
   ],
   "source": [
    "s=np.random.random(10)\n",
    "print(s)"
   ]
  },
  {
   "cell_type": "code",
   "execution_count": 99,
   "id": "85e58a5c",
   "metadata": {},
   "outputs": [
    {
     "name": "stdout",
     "output_type": "stream",
     "text": [
      "[[ 1.62361454 -1.37863677 -2.06926846]\n",
      " [ 1.40280956  0.35938149 -0.42534436]\n",
      " [ 0.1505048   3.14056013 -0.06421747]]\n"
     ]
    }
   ],
   "source": [
    "s=np.random.normal(0,1,(3,3))\n",
    "print(s)"
   ]
  },
  {
   "cell_type": "code",
   "execution_count": 100,
   "id": "05073706",
   "metadata": {},
   "outputs": [],
   "source": [
    "import numpy as np"
   ]
  },
  {
   "cell_type": "code",
   "execution_count": 101,
   "id": "12bd9040",
   "metadata": {},
   "outputs": [],
   "source": [
    "a=np.arange(1000000) #how numpy is faster then list?\n",
    "l=list(range(1000000))"
   ]
  },
  {
   "cell_type": "code",
   "execution_count": 102,
   "id": "bdf5e76c",
   "metadata": {},
   "outputs": [
    {
     "name": "stdout",
     "output_type": "stream",
     "text": [
      "250 ms ± 1.47 ms per loop (mean ± std. dev. of 7 runs, 1 loop each)\n"
     ]
    }
   ],
   "source": [
    "%timeit for _ in range(200):a2=a*2"
   ]
  },
  {
   "cell_type": "code",
   "execution_count": 103,
   "id": "12e8b9fd",
   "metadata": {},
   "outputs": [
    {
     "name": "stdout",
     "output_type": "stream",
     "text": [
      "253 ms ± 8.12 ms per loop (mean ± std. dev. of 7 runs, 1 loop each)\n"
     ]
    }
   ],
   "source": [
    "%timeit for _ in range(200):a2=a*2 #numpy array time check  #not to show on likedin"
   ]
  },
  {
   "cell_type": "code",
   "execution_count": 104,
   "id": "d2c510e6",
   "metadata": {},
   "outputs": [
    {
     "name": "stdout",
     "output_type": "stream",
     "text": [
      "3.17 s ± 130 ms per loop (mean ± std. dev. of 7 runs, 1 loop each)\n"
     ]
    }
   ],
   "source": [
    "%timeit for _ in range(200): l2=l*2 #list time check"
   ]
  },
  {
   "cell_type": "code",
   "execution_count": 105,
   "id": "1bab89cd",
   "metadata": {},
   "outputs": [
    {
     "name": "stdout",
     "output_type": "stream",
     "text": [
      "[1 2 3 4 5]\n"
     ]
    }
   ],
   "source": [
    "d=[1,2,3,4,5] #creating n-d arrays\n",
    "a1=np.array(d)\n",
    "print(a1)"
   ]
  },
  {
   "cell_type": "code",
   "execution_count": 106,
   "id": "2a942ff0",
   "metadata": {},
   "outputs": [
    {
     "name": "stdout",
     "output_type": "stream",
     "text": [
      "[[1, 2, 3], [4, 5, 6]]\n"
     ]
    }
   ],
   "source": [
    "d2=[[1,2,3],[4,5,6]]\n",
    "a2=np.array(d2)\n",
    "print(d2)"
   ]
  },
  {
   "cell_type": "code",
   "execution_count": 107,
   "id": "1d75e65c",
   "metadata": {},
   "outputs": [],
   "source": [
    "d3=np.array(d,dtype=np.float64)"
   ]
  },
  {
   "cell_type": "code",
   "execution_count": 108,
   "id": "d7f4226f",
   "metadata": {},
   "outputs": [
    {
     "name": "stdout",
     "output_type": "stream",
     "text": [
      "[1. 2. 3. 4. 5.]\n"
     ]
    }
   ],
   "source": [
    "print(d3)"
   ]
  },
  {
   "cell_type": "code",
   "execution_count": 109,
   "id": "57a5f589",
   "metadata": {},
   "outputs": [
    {
     "name": "stdout",
     "output_type": "stream",
     "text": [
      "int32 (5,) 1\n",
      "int32 (2, 3) 2\n"
     ]
    }
   ],
   "source": [
    "print(a1.dtype,a1.shape,a1.ndim)\n",
    "print(a2.dtype,a2.shape,a2.ndim)"
   ]
  },
  {
   "cell_type": "code",
   "execution_count": 112,
   "id": "081683d2",
   "metadata": {},
   "outputs": [
    {
     "name": "stdout",
     "output_type": "stream",
     "text": [
      "[0 1 2 3 4 5 6 7 8 9]\n"
     ]
    }
   ],
   "source": [
    "s=np.arange(10)\n",
    "print(s)"
   ]
  },
  {
   "cell_type": "code",
   "execution_count": 113,
   "id": "4aa6e707",
   "metadata": {},
   "outputs": [
    {
     "name": "stdout",
     "output_type": "stream",
     "text": [
      "[[1. 1. 1.]\n",
      " [1. 1. 1.]]\n"
     ]
    }
   ],
   "source": [
    "p=np.ones((2,3))\n",
    "print(p)"
   ]
  },
  {
   "cell_type": "code",
   "execution_count": 114,
   "id": "c62e81fc",
   "metadata": {},
   "outputs": [
    {
     "name": "stdout",
     "output_type": "stream",
     "text": [
      "[[5 5 5]\n",
      " [5 5 5]]\n"
     ]
    }
   ],
   "source": [
    "s1=np.full((2,3),fill_value=5)\n",
    "print(s1)"
   ]
  },
  {
   "cell_type": "code",
   "execution_count": 115,
   "id": "2fae3062",
   "metadata": {},
   "outputs": [
    {
     "name": "stdout",
     "output_type": "stream",
     "text": [
      "[ 1.   2.   2.5  5.  10. ]\n"
     ]
    }
   ],
   "source": [
    "s2=np.empty(5)\n",
    "print(s2)"
   ]
  },
  {
   "cell_type": "code",
   "execution_count": 116,
   "id": "cafc43eb",
   "metadata": {},
   "outputs": [
    {
     "name": "stdout",
     "output_type": "stream",
     "text": [
      "[[1. 1. 1.]\n",
      " [1. 1. 1.]]\n"
     ]
    }
   ],
   "source": [
    "s3=np.empty((2,3))\n",
    "print(s3)"
   ]
  },
  {
   "cell_type": "code",
   "execution_count": 118,
   "id": "f25ee816",
   "metadata": {},
   "outputs": [
    {
     "name": "stdout",
     "output_type": "stream",
     "text": [
      "[[0. 0. 0.]\n",
      " [0. 0. 0.]\n",
      " [0. 0. 0.]]\n"
     ]
    }
   ],
   "source": [
    "s4=np.zeros((3,3))\n",
    "print(s4)"
   ]
  },
  {
   "cell_type": "code",
   "execution_count": 119,
   "id": "e04f4ba5",
   "metadata": {},
   "outputs": [
    {
     "name": "stdout",
     "output_type": "stream",
     "text": [
      "[[0. 0. 0.]\n",
      " [0. 0. 0.]\n",
      " [0. 0. 0.]]\n"
     ]
    }
   ],
   "source": [
    "s5=np.empty((3,3))\n",
    "print(s5)"
   ]
  },
  {
   "cell_type": "code",
   "execution_count": 121,
   "id": "781d06bf",
   "metadata": {},
   "outputs": [
    {
     "name": "stdout",
     "output_type": "stream",
     "text": [
      "[[1. 0. 0. 0.]\n",
      " [0. 1. 0. 0.]\n",
      " [0. 0. 1. 0.]\n",
      " [0. 0. 0. 1.]]\n"
     ]
    }
   ],
   "source": [
    "s6=np.eye(4)\n",
    "print(s6)"
   ]
  },
  {
   "cell_type": "code",
   "execution_count": 124,
   "id": "388a42df",
   "metadata": {},
   "outputs": [
    {
     "name": "stdout",
     "output_type": "stream",
     "text": [
      "[0 1 2 3 4]\n"
     ]
    }
   ],
   "source": [
    "s7=np.arange(5,dtype=np.int32)\n",
    "print(s7) #converting 64 bit data to 32 bits"
   ]
  },
  {
   "cell_type": "code",
   "execution_count": 125,
   "id": "cb012c93",
   "metadata": {},
   "outputs": [
    {
     "name": "stdout",
     "output_type": "stream",
     "text": [
      "[0. 1. 2. 3. 4.]\n"
     ]
    }
   ],
   "source": [
    "s8=np.arange(5,dtype=np.float32)\n",
    "print(s8)"
   ]
  },
  {
   "cell_type": "code",
   "execution_count": 126,
   "id": "9251bc92",
   "metadata": {},
   "outputs": [
    {
     "name": "stdout",
     "output_type": "stream",
     "text": [
      "[  1   2 600]\n"
     ]
    }
   ],
   "source": [
    "a=np.array([1.2,2.5,600]) #astype type casting converted float to int only\n",
    "b=a.astype(np.int32)\n",
    "print(b)"
   ]
  },
  {
   "cell_type": "code",
   "execution_count": 127,
   "id": "87d1c597",
   "metadata": {},
   "outputs": [
    {
     "name": "stdout",
     "output_type": "stream",
     "text": [
      "[[4 4 4]\n",
      " [5 5 5]]\n"
     ]
    }
   ],
   "source": [
    "a1=np.array([[2,2,2],[3,3,3]]) #creating new matrix using addition\n",
    "a2=a1+2\n",
    "print(a2)"
   ]
  },
  {
   "cell_type": "code",
   "execution_count": 128,
   "id": "223ca680",
   "metadata": {},
   "outputs": [
    {
     "name": "stdout",
     "output_type": "stream",
     "text": [
      "[[4 4 4]\n",
      " [6 6 6]]\n"
     ]
    }
   ],
   "source": [
    "a3=a1+a1\n",
    "print(a3)"
   ]
  },
  {
   "cell_type": "code",
   "execution_count": 130,
   "id": "b4c48e06",
   "metadata": {},
   "outputs": [
    {
     "name": "stdout",
     "output_type": "stream",
     "text": [
      "[[4 4 4]\n",
      " [6 6 6]]\n"
     ]
    }
   ],
   "source": [
    "a2=a1*2\n",
    "print(a2)"
   ]
  },
  {
   "cell_type": "code",
   "execution_count": 131,
   "id": "4da668e4",
   "metadata": {},
   "outputs": [
    {
     "name": "stdout",
     "output_type": "stream",
     "text": [
      "[[1 1 1]\n",
      " [1 1 1]]\n"
     ]
    }
   ],
   "source": [
    "a4=a1//2\n",
    "print(a4)"
   ]
  },
  {
   "cell_type": "code",
   "execution_count": 132,
   "id": "1eaa09f2",
   "metadata": {},
   "outputs": [],
   "source": [
    "#arithmatice operations using numpy array"
   ]
  },
  {
   "cell_type": "code",
   "execution_count": 133,
   "id": "bb851276",
   "metadata": {},
   "outputs": [
    {
     "name": "stdout",
     "output_type": "stream",
     "text": [
      "[[4 4 4]\n",
      " [5 5 5]]\n"
     ]
    }
   ],
   "source": [
    "import numpy as np\n",
    "a1=np.array([[2,2,2],[3,3,3]])\n",
    "print(a1+2) #arithmatice adding"
   ]
  },
  {
   "cell_type": "code",
   "execution_count": 136,
   "id": "1e5b3374",
   "metadata": {},
   "outputs": [
    {
     "name": "stdout",
     "output_type": "stream",
     "text": [
      "[[4 4 4]\n",
      " [6 6 6]]\n"
     ]
    }
   ],
   "source": [
    "a2=a1*2\n",
    "print(a2)"
   ]
  },
  {
   "cell_type": "code",
   "execution_count": 137,
   "id": "084a7fc7",
   "metadata": {},
   "outputs": [
    {
     "name": "stdout",
     "output_type": "stream",
     "text": [
      "[[2 2 2]\n",
      " [3 3 3]]\n"
     ]
    }
   ],
   "source": [
    "a3=a2//2\n",
    "print(a3)"
   ]
  },
  {
   "cell_type": "code",
   "execution_count": 138,
   "id": "b89398ec",
   "metadata": {},
   "outputs": [
    {
     "name": "stdout",
     "output_type": "stream",
     "text": [
      "2.5\n"
     ]
    }
   ],
   "source": [
    "k=5/2\n",
    "print(k)"
   ]
  },
  {
   "cell_type": "code",
   "execution_count": 139,
   "id": "bcf22240",
   "metadata": {},
   "outputs": [
    {
     "name": "stdout",
     "output_type": "stream",
     "text": [
      "[0 1 2 3 4 5 6 7 8 9]\n"
     ]
    }
   ],
   "source": [
    "#indexing and slicing in numpyarray\n",
    "a4=np.array([0,1,2,3,4,5,6,7,8,9])\n",
    "z=np.arange(10)\n",
    "print(z)"
   ]
  },
  {
   "cell_type": "code",
   "execution_count": 140,
   "id": "e4f88474",
   "metadata": {},
   "outputs": [
    {
     "name": "stdout",
     "output_type": "stream",
     "text": [
      "5\n"
     ]
    }
   ],
   "source": [
    "print(z[5])"
   ]
  },
  {
   "cell_type": "code",
   "execution_count": 141,
   "id": "99408949",
   "metadata": {},
   "outputs": [
    {
     "name": "stdout",
     "output_type": "stream",
     "text": [
      "[5 6 7]\n"
     ]
    }
   ],
   "source": [
    "print(z[5:8])"
   ]
  },
  {
   "cell_type": "code",
   "execution_count": 142,
   "id": "cc32768b",
   "metadata": {},
   "outputs": [
    {
     "name": "stdout",
     "output_type": "stream",
     "text": [
      "[0 2 4 6 8]\n"
     ]
    }
   ],
   "source": [
    "print(z[::2])"
   ]
  },
  {
   "cell_type": "code",
   "execution_count": 143,
   "id": "d7f16071",
   "metadata": {},
   "outputs": [
    {
     "name": "stdout",
     "output_type": "stream",
     "text": [
      "[ True False False  True False False  True False False  True]\n"
     ]
    }
   ],
   "source": [
    "import numpy as np #boolean indexing/masking\n",
    "a=np.arange(10)\n",
    "mask=a%3==0\n",
    "print(mask)"
   ]
  },
  {
   "cell_type": "code",
   "execution_count": 145,
   "id": "4c270d80",
   "metadata": {},
   "outputs": [
    {
     "name": "stdout",
     "output_type": "stream",
     "text": [
      "[0 3 6 9]\n"
     ]
    }
   ],
   "source": [
    "print(a[mask])"
   ]
  },
  {
   "cell_type": "code",
   "execution_count": 146,
   "id": "1b1b0e59",
   "metadata": {},
   "outputs": [
    {
     "name": "stdout",
     "output_type": "stream",
     "text": [
      "[[2 2 2]\n",
      " [3 3 3]]\n",
      "[[ 0  4  8 12]\n",
      " [ 1  5  9 13]\n",
      " [ 2  6 10 14]\n",
      " [ 3  7 11 15]]\n"
     ]
    }
   ],
   "source": [
    "a=np.arange(16) #reshaping, transposing, swaping\n",
    "print(a1)\n",
    "a1=a.reshape((4,4), order='F') #converting from 1d to nd matrix using reshaping or reshape function\n",
    "print(a1)"
   ]
  },
  {
   "cell_type": "code",
   "execution_count": 147,
   "id": "58fb6cf5",
   "metadata": {},
   "outputs": [
    {
     "name": "stdout",
     "output_type": "stream",
     "text": [
      "[[ 0  1  2  3]\n",
      " [ 4  5  6  7]\n",
      " [ 8  9 10 11]\n",
      " [12 13 14 15]]\n"
     ]
    }
   ],
   "source": [
    "print(a1.T)"
   ]
  },
  {
   "cell_type": "code",
   "execution_count": 148,
   "id": "2015b22c",
   "metadata": {},
   "outputs": [
    {
     "name": "stdout",
     "output_type": "stream",
     "text": [
      "[[[ 0  1  2  3]\n",
      "  [ 4  5  6  7]]\n",
      "\n",
      " [[ 8  9 10 11]\n",
      "  [12 13 14 15]]]\n"
     ]
    }
   ],
   "source": [
    "b=a.reshape((2,2,4))\n",
    "print(b)"
   ]
  },
  {
   "cell_type": "code",
   "execution_count": 149,
   "id": "a996b788",
   "metadata": {},
   "outputs": [
    {
     "name": "stdout",
     "output_type": "stream",
     "text": [
      "[[[ 0  1  2  3  4  5  6  7]\n",
      "  [ 8  9 10 11 12 13 14 15]]]\n"
     ]
    }
   ],
   "source": [
    "b=a.reshape((1,2,8))\n",
    "print(b)"
   ]
  },
  {
   "cell_type": "code",
   "execution_count": 150,
   "id": "6b4de62e",
   "metadata": {},
   "outputs": [
    {
     "name": "stdout",
     "output_type": "stream",
     "text": [
      "(1, 2, 8)\n"
     ]
    }
   ],
   "source": [
    "print(b.shape)"
   ]
  },
  {
   "cell_type": "code",
   "execution_count": 151,
   "id": "2d7e6287",
   "metadata": {},
   "outputs": [
    {
     "name": "stdout",
     "output_type": "stream",
     "text": [
      "3 16\n"
     ]
    }
   ],
   "source": [
    "print(b.ndim,b.size)"
   ]
  },
  {
   "cell_type": "code",
   "execution_count": 152,
   "id": "1560ce1d",
   "metadata": {},
   "outputs": [
    {
     "name": "stdout",
     "output_type": "stream",
     "text": [
      "[[ 0  4  8 12]\n",
      " [ 1  5  9 13]\n",
      " [ 2  6 10 14]\n",
      " [ 3  7 11 15]]\n"
     ]
    }
   ],
   "source": [
    "print(a1)"
   ]
  },
  {
   "cell_type": "code",
   "execution_count": 153,
   "id": "8edf332b",
   "metadata": {},
   "outputs": [
    {
     "name": "stdout",
     "output_type": "stream",
     "text": [
      "[[ 0  1  2  3]\n",
      " [ 4  5  6  7]\n",
      " [ 8  9 10 11]\n",
      " [12 13 14 15]]\n"
     ]
    }
   ],
   "source": [
    "print(a1.T)    #dot  product"
   ]
  },
  {
   "cell_type": "code",
   "execution_count": 154,
   "id": "2133c461",
   "metadata": {},
   "outputs": [
    {
     "name": "stdout",
     "output_type": "stream",
     "text": [
      "[[224 248 272 296]\n",
      " [248 276 304 332]\n",
      " [272 304 336 368]\n",
      " [296 332 368 404]]\n"
     ]
    }
   ],
   "source": [
    "print(np.dot(a1,a1.T))"
   ]
  },
  {
   "cell_type": "code",
   "execution_count": 156,
   "id": "97d6fd8a",
   "metadata": {},
   "outputs": [
    {
     "name": "stdout",
     "output_type": "stream",
     "text": [
      "[[ 0  1  2  3]\n",
      " [ 4  5  6  7]\n",
      " [ 8  9 10 11]\n",
      " [12 13 14 15]]\n"
     ]
    }
   ],
   "source": [
    "print(a1.swapaxes(1,0))"
   ]
  },
  {
   "cell_type": "code",
   "execution_count": 157,
   "id": "4fc3e5e4",
   "metadata": {},
   "outputs": [],
   "source": [
    "#Function in array"
   ]
  },
  {
   "cell_type": "code",
   "execution_count": 159,
   "id": "26cdfffe",
   "metadata": {},
   "outputs": [
    {
     "name": "stdout",
     "output_type": "stream",
     "text": [
      "[0 1 2 3 4 5 6 7 8 9]\n"
     ]
    }
   ],
   "source": [
    "a=np.array([3,4,2,1,9,8,6,7,0,5])\n",
    "a.sort() #shorting the data\n",
    "print(a)"
   ]
  },
  {
   "cell_type": "code",
   "execution_count": 160,
   "id": "1d4189e6",
   "metadata": {},
   "outputs": [
    {
     "name": "stdout",
     "output_type": "stream",
     "text": [
      "[ 0  1  4  9 16 25 36 49 64 81]\n"
     ]
    }
   ],
   "source": [
    "print(np.square(a)) #for sqauare of anny number"
   ]
  },
  {
   "cell_type": "code",
   "execution_count": 161,
   "id": "e9d08a1e",
   "metadata": {},
   "outputs": [
    {
     "name": "stdout",
     "output_type": "stream",
     "text": [
      "[ 5.47722558 16.2788206  94.86832981]\n"
     ]
    }
   ],
   "source": [
    "print(np.sqrt([30,265,9000]))"
   ]
  },
  {
   "cell_type": "code",
   "execution_count": 162,
   "id": "5e685292",
   "metadata": {},
   "outputs": [
    {
     "name": "stdout",
     "output_type": "stream",
     "text": [
      "[  1.5   9.5 999. ]\n"
     ]
    }
   ],
   "source": [
    "print(np.abs([-1.5,-9.5,-999.0]))"
   ]
  },
  {
   "cell_type": "code",
   "execution_count": 163,
   "id": "0fc5522a",
   "metadata": {},
   "outputs": [
    {
     "name": "stdout",
     "output_type": "stream",
     "text": [
      "[ 6  9 12 12]\n"
     ]
    }
   ],
   "source": [
    "k=np.array([4,6,8,9])\n",
    "k2=np.array([2,3,4,3])\n",
    "print(np.add(k,k2))"
   ]
  },
  {
   "cell_type": "code",
   "execution_count": 164,
   "id": "f8dba83d",
   "metadata": {},
   "outputs": [
    {
     "name": "stdout",
     "output_type": "stream",
     "text": [
      "[2 3 4 6]\n"
     ]
    }
   ],
   "source": [
    "print(np.subtract(k,k2))"
   ]
  },
  {
   "cell_type": "code",
   "execution_count": 165,
   "id": "b169325d",
   "metadata": {},
   "outputs": [
    {
     "name": "stdout",
     "output_type": "stream",
     "text": [
      "[ 8 18 32 27]\n"
     ]
    }
   ],
   "source": [
    "print(np.multiply(k,k2))"
   ]
  },
  {
   "cell_type": "code",
   "execution_count": 168,
   "id": "127edb58",
   "metadata": {},
   "outputs": [
    {
     "name": "stdout",
     "output_type": "stream",
     "text": [
      "[2. 2. 2. 3.]\n",
      "[4 6 8 9]\n",
      "[2 3 4 3]\n",
      "[  16  216 4096  729]\n",
      "[ True  True  True  True]\n",
      "[False False False False]\n",
      "[4 6 8 9 2 3 4 3]\n"
     ]
    }
   ],
   "source": [
    "print(np.divide(k,k2))\n",
    "print(np.maximum(k,k2))\n",
    "print(np.minimum(k,k2))\n",
    "print(np.power(k,k2))\n",
    "print(np.greater(k,k2))\n",
    "print(np.less(k,k2))\n",
    "print(np.concatenate((k,k2)))"
   ]
  },
  {
   "cell_type": "code",
   "execution_count": 167,
   "id": "3fd4e602",
   "metadata": {},
   "outputs": [
    {
     "name": "stdout",
     "output_type": "stream",
     "text": [
      "[4 6 8 9 2 3 4 3]\n"
     ]
    }
   ],
   "source": [
    "print(np.concatenate((k,k2)))"
   ]
  },
  {
   "cell_type": "code",
   "execution_count": null,
   "id": "0a04968b",
   "metadata": {},
   "outputs": [],
   "source": []
  }
 ],
 "metadata": {
  "kernelspec": {
   "display_name": "Python 3 (ipykernel)",
   "language": "python",
   "name": "python3"
  },
  "language_info": {
   "codemirror_mode": {
    "name": "ipython",
    "version": 3
   },
   "file_extension": ".py",
   "mimetype": "text/x-python",
   "name": "python",
   "nbconvert_exporter": "python",
   "pygments_lexer": "ipython3",
   "version": "3.10.9"
  }
 },
 "nbformat": 4,
 "nbformat_minor": 5
}
